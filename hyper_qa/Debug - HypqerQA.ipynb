{
 "cells": [
  {
   "cell_type": "code",
   "execution_count": 1,
   "metadata": {},
   "outputs": [
    {
     "name": "stderr",
     "output_type": "stream",
     "text": [
      "C:\\Users\\nelson.yao\\AppData\\Roaming\\Python\\Python36\\site-packages\\h5py\\__init__.py:34: FutureWarning: Conversion of the second argument of issubdtype from `float` to `np.floating` is deprecated. In future, it will be treated as `np.float64 == np.dtype(float).type`.\n",
      "  from ._conv import register_converters as _register_converters\n"
     ]
    }
   ],
   "source": [
    "%load_ext autoreload\n",
    "%autoreload 2\n",
    "\n",
    "from hyper_qa.model import HyperQA\n",
    "import numpy as np\n",
    "import tensorflow as tf\n",
    "tf.enable_eager_execution()"
   ]
  },
  {
   "cell_type": "code",
   "execution_count": 2,
   "metadata": {},
   "outputs": [],
   "source": [
    "tf.random.set_random_seed(212)"
   ]
  },
  {
   "cell_type": "code",
   "execution_count": 3,
   "metadata": {},
   "outputs": [],
   "source": [
    "embedding_matrix = np.random.normal(0, 1, (1000, 300))\n",
    "def generate_samples(max_length, sample_size, vocab_size=1000, pad=False):\n",
    "    lengths = []\n",
    "    sample_sequences = []\n",
    "    for i in range(sample_size):\n",
    "#         text = np.random.randint(1,1000, np.random.randint(1,max_length))\n",
    "        text = np.arange(i%max_length)\n",
    "        if pad:\n",
    "            sample = np.concatenate((text, [0] * (max_length - len(text))))\n",
    "        else:\n",
    "            sample = text\n",
    "        lengths.append(len(text))\n",
    "        sample_sequences.append(sample)\n",
    "    if pad:\n",
    "        sample_sequences = np.vstack(sample_sequences)\n",
    "    return sample_sequences"
   ]
  },
  {
   "cell_type": "code",
   "execution_count": 151,
   "metadata": {},
   "outputs": [],
   "source": [
    "max_length = 50\n",
    "q = generate_samples(max_length, 200, pad=True)\n",
    "a = generate_samples(max_length, 200, pad=True)\n",
    "b = generate_samples(max_length, 200, pad=True)"
   ]
  },
  {
   "cell_type": "code",
   "execution_count": 169,
   "metadata": {},
   "outputs": [],
   "source": [
    "dataset = tf.data.Dataset.from_tensor_slices((q, a, b))\n",
    "dataset = dataset.shuffle(200).batch(5)\n",
    "data_iter = dataset.make_one_shot_iterator()"
   ]
  },
  {
   "cell_type": "code",
   "execution_count": 170,
   "metadata": {},
   "outputs": [],
   "source": [
    "q, a, b = data_iter.get_next()\n",
    "model = HyperQA(1000, max_length, embedding_matrix=embedding_matrix)\n",
    "logits = model((q, a, b), training=True)"
   ]
  },
  {
   "cell_type": "code",
   "execution_count": 171,
   "metadata": {},
   "outputs": [],
   "source": [
    "margin = tf.constant(5.0)\n",
    "loss_history = []\n",
    "with tf.GradientTape() as tape:\n",
    "    sim_pos, sim_neg = model((q,a,b), training=True)\n",
    "    loss = tf.reduce_mean(tf.maximum(0.0, margin + sim_neg - sim_pos))\n",
    "\n",
    "gradients = tape.gradient(loss, model.trainable_variables)\n"
   ]
  },
  {
   "cell_type": "code",
   "execution_count": 168,
   "metadata": {},
   "outputs": [
    {
     "name": "stdout",
     "output_type": "stream",
     "text": [
      "[1.        0.9999998 0.9999998 1.0000001 0.9999998]\n",
      "[1.        0.9999998 0.9999998 1.0000001 0.9999998]\n",
      "[1.        0.9999998 0.9999998 1.0000001 0.9999998]\n"
     ]
    }
   ],
   "source": [
    "for param in [model.sum_good, model.sum_reference, model.sum_bad]:\n",
    "    print(tf.norm(param, axis=-1).numpy())"
   ]
  },
  {
   "cell_type": "code",
   "execution_count": 68,
   "metadata": {},
   "outputs": [
    {
     "data": {
      "text/plain": [
       "<tf.Tensor: id=39136, shape=(), dtype=float32, numpy=1.0>"
      ]
     },
     "execution_count": 68,
     "metadata": {},
     "output_type": "execute_result"
    }
   ],
   "source": []
  }
 ],
 "metadata": {
  "kernelspec": {
   "display_name": "tensorflow",
   "language": "python",
   "name": "tensorflow"
  },
  "language_info": {
   "codemirror_mode": {
    "name": "ipython",
    "version": 3
   },
   "file_extension": ".py",
   "mimetype": "text/x-python",
   "name": "python",
   "nbconvert_exporter": "python",
   "pygments_lexer": "ipython3",
   "version": "3.6.6"
  }
 },
 "nbformat": 4,
 "nbformat_minor": 2
}
