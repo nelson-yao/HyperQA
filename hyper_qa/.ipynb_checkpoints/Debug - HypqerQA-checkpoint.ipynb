{
 "cells": [
  {
   "cell_type": "code",
   "execution_count": 1,
   "metadata": {},
   "outputs": [
    {
     "name": "stderr",
     "output_type": "stream",
     "text": [
      "C:\\Users\\nelson.yao\\AppData\\Roaming\\Python\\Python36\\site-packages\\h5py\\__init__.py:34: FutureWarning: Conversion of the second argument of issubdtype from `float` to `np.floating` is deprecated. In future, it will be treated as `np.float64 == np.dtype(float).type`.\n",
      "  from ._conv import register_converters as _register_converters\n"
     ]
    }
   ],
   "source": [
    "%load_ext autoreload\n",
    "%autoreload 2\n",
    "\n",
    "from hyper_qa.model import HyperQA\n",
    "import numpy as np\n",
    "import tensorflow as tf\n",
    "tf.enable_eager_execution()"
   ]
  },
  {
   "cell_type": "code",
   "execution_count": 2,
   "metadata": {},
   "outputs": [],
   "source": [
    "tf.random.set_random_seed(212)"
   ]
  },
  {
   "cell_type": "code",
   "execution_count": 24,
   "metadata": {},
   "outputs": [],
   "source": [
    "embedding_matrix = np.random.normal(0, 1, (1000, 300))\n",
    "def generate_samples(max_length, sample_size, vocab_size=1000, pad=False):\n",
    "    lengths = []\n",
    "    sample_sequences = []\n",
    "    for i in range(sample_size):\n",
    "        text = np.random.randint(1,1000, np.random.randint(1,max_length))\n",
    "#         text = np.arange(i%max_length)\n",
    "        if pad:\n",
    "            sample = np.concatenate((text, [0] * (max_length - len(text))))\n",
    "        else:\n",
    "            sample = text\n",
    "        lengths.append(len(text))\n",
    "        sample_sequences.append(sample)\n",
    "    if pad:\n",
    "        sample_sequences = np.vstack(sample_sequences)\n",
    "    return sample_sequences"
   ]
  },
  {
   "cell_type": "code",
   "execution_count": 25,
   "metadata": {},
   "outputs": [],
   "source": [
    "max_length = 50\n",
    "q = generate_samples(max_length, 200, pad=True)\n",
    "a = generate_samples(max_length, 200, pad=True)\n",
    "b = generate_samples(max_length, 200, pad=True)"
   ]
  },
  {
   "cell_type": "code",
   "execution_count": 26,
   "metadata": {},
   "outputs": [],
   "source": [
    "dataset = tf.data.Dataset.from_tensor_slices((q, a, b))\n",
    "dataset = dataset.shuffle(200).batch(5)\n",
    "data_iter = dataset.make_one_shot_iterator()"
   ]
  },
  {
   "cell_type": "code",
   "execution_count": 27,
   "metadata": {},
   "outputs": [],
   "source": [
    "q, a, b = data_iter.get_next()\n",
    "model = HyperQA(1000, max_length, embedding_matrix=embedding_matrix)\n",
    "logits = model((q, a, b), training=True)"
   ]
  },
  {
   "cell_type": "code",
   "execution_count": 28,
   "metadata": {},
   "outputs": [],
   "source": [
    "margin = tf.constant(5.0)\n",
    "loss_history = []\n",
    "with tf.GradientTape() as tape:\n",
    "    sim_pos, sim_neg = model((q,a,b), training=True)\n",
    "    loss = tf.reduce_mean(tf.maximum(0.0, margin + sim_neg - sim_pos))\n",
    "\n",
    "gradients = tape.gradient(loss, model.trainable_variables)"
   ]
  },
  {
   "cell_type": "code",
   "execution_count": 37,
   "metadata": {},
   "outputs": [
    {
     "name": "stdout",
     "output_type": "stream",
     "text": [
      "[0.99999994 0.99999994 1.0000001  0.99999994 0.9999995 ]\n",
      "[0.99999994 0.99999994 1.0000001  0.99999994 0.9999995 ]\n",
      "[0.99999994 0.99999994 1.0000001  0.99999994 0.9999995 ]\n",
      "tf.Tensor([0. 0. 0. 0. 0.], shape=(5,), dtype=float32)\n"
     ]
    }
   ],
   "source": [
    "for param in [model.bow_q1, model.bow_q2, model.bow_q3]:\n",
    "    print(tf.norm(param, axis=-1).numpy())\n",
    "print(model.distance_neg)"
   ]
  },
  {
   "cell_type": "code",
   "execution_count": 35,
   "metadata": {},
   "outputs": [
    {
     "data": {
      "text/plain": [
       "<tf.Tensor: id=31427, shape=(), dtype=float32, numpy=5.0>"
      ]
     },
     "execution_count": 35,
     "metadata": {},
     "output_type": "execute_result"
    }
   ],
   "source": []
  }
 ],
 "metadata": {
  "kernelspec": {
   "display_name": "tensorflow",
   "language": "python",
   "name": "tensorflow"
  },
  "language_info": {
   "codemirror_mode": {
    "name": "ipython",
    "version": 3
   },
   "file_extension": ".py",
   "mimetype": "text/x-python",
   "name": "python",
   "nbconvert_exporter": "python",
   "pygments_lexer": "ipython3",
   "version": "3.6.6"
  }
 },
 "nbformat": 4,
 "nbformat_minor": 2
}
